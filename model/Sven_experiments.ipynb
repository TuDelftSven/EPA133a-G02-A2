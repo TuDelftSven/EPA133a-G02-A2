{
 "cells": [
  {
   "cell_type": "code",
   "execution_count": 1,
   "id": "initial_id",
   "metadata": {
    "collapsed": true,
    "ExecuteTime": {
     "end_time": "2024-02-26T13:17:24.194210500Z",
     "start_time": "2024-02-26T13:17:22.041136500Z"
    }
   },
   "outputs": [],
   "source": [
    "import pandas as pd"
   ]
  },
  {
   "cell_type": "code",
   "execution_count": 2,
   "outputs": [],
   "source": [
    "demo1 = pd.read_csv('../data/demo-1.csv')"
   ],
   "metadata": {
    "collapsed": false,
    "ExecuteTime": {
     "end_time": "2024-02-26T13:17:34.478400Z",
     "start_time": "2024-02-26T13:17:34.462280900Z"
    }
   },
   "id": "2251456d150d1d00"
  },
  {
   "cell_type": "code",
   "execution_count": 3,
   "outputs": [
    {
     "data": {
      "text/plain": "   road       id model_type      name  lat  lon  length\n0    N1  1000000     source    source    0    0       4\n1    N1  1000001       link    link 1    1    1    1800\n2    N1  1000002     bridge  bridge 1    2    2     200\n3    N1  1000003       link    link 2    3    3    1500\n4    N1  1000004     bridge  bridge 2    4    4       8\n5    N1  1000005       link    link 3    5    5    2000\n6    N1  1000006     bridge  bridge 3    6    6       4\n7    N1  1000007       link    link 4    7    7    2500\n8    N1  1000008     bridge  bridge 4    8    8     500\n9    N1  1000009       link    link 5    9    9     800\n10   N1  1000010       sink      sink   10   10      20",
      "text/html": "<div>\n<style scoped>\n    .dataframe tbody tr th:only-of-type {\n        vertical-align: middle;\n    }\n\n    .dataframe tbody tr th {\n        vertical-align: top;\n    }\n\n    .dataframe thead th {\n        text-align: right;\n    }\n</style>\n<table border=\"1\" class=\"dataframe\">\n  <thead>\n    <tr style=\"text-align: right;\">\n      <th></th>\n      <th>road</th>\n      <th>id</th>\n      <th>model_type</th>\n      <th>name</th>\n      <th>lat</th>\n      <th>lon</th>\n      <th>length</th>\n    </tr>\n  </thead>\n  <tbody>\n    <tr>\n      <th>0</th>\n      <td>N1</td>\n      <td>1000000</td>\n      <td>source</td>\n      <td>source</td>\n      <td>0</td>\n      <td>0</td>\n      <td>4</td>\n    </tr>\n    <tr>\n      <th>1</th>\n      <td>N1</td>\n      <td>1000001</td>\n      <td>link</td>\n      <td>link 1</td>\n      <td>1</td>\n      <td>1</td>\n      <td>1800</td>\n    </tr>\n    <tr>\n      <th>2</th>\n      <td>N1</td>\n      <td>1000002</td>\n      <td>bridge</td>\n      <td>bridge 1</td>\n      <td>2</td>\n      <td>2</td>\n      <td>200</td>\n    </tr>\n    <tr>\n      <th>3</th>\n      <td>N1</td>\n      <td>1000003</td>\n      <td>link</td>\n      <td>link 2</td>\n      <td>3</td>\n      <td>3</td>\n      <td>1500</td>\n    </tr>\n    <tr>\n      <th>4</th>\n      <td>N1</td>\n      <td>1000004</td>\n      <td>bridge</td>\n      <td>bridge 2</td>\n      <td>4</td>\n      <td>4</td>\n      <td>8</td>\n    </tr>\n    <tr>\n      <th>5</th>\n      <td>N1</td>\n      <td>1000005</td>\n      <td>link</td>\n      <td>link 3</td>\n      <td>5</td>\n      <td>5</td>\n      <td>2000</td>\n    </tr>\n    <tr>\n      <th>6</th>\n      <td>N1</td>\n      <td>1000006</td>\n      <td>bridge</td>\n      <td>bridge 3</td>\n      <td>6</td>\n      <td>6</td>\n      <td>4</td>\n    </tr>\n    <tr>\n      <th>7</th>\n      <td>N1</td>\n      <td>1000007</td>\n      <td>link</td>\n      <td>link 4</td>\n      <td>7</td>\n      <td>7</td>\n      <td>2500</td>\n    </tr>\n    <tr>\n      <th>8</th>\n      <td>N1</td>\n      <td>1000008</td>\n      <td>bridge</td>\n      <td>bridge 4</td>\n      <td>8</td>\n      <td>8</td>\n      <td>500</td>\n    </tr>\n    <tr>\n      <th>9</th>\n      <td>N1</td>\n      <td>1000009</td>\n      <td>link</td>\n      <td>link 5</td>\n      <td>9</td>\n      <td>9</td>\n      <td>800</td>\n    </tr>\n    <tr>\n      <th>10</th>\n      <td>N1</td>\n      <td>1000010</td>\n      <td>sink</td>\n      <td>sink</td>\n      <td>10</td>\n      <td>10</td>\n      <td>20</td>\n    </tr>\n  </tbody>\n</table>\n</div>"
     },
     "execution_count": 3,
     "metadata": {},
     "output_type": "execute_result"
    }
   ],
   "source": [
    "demo1"
   ],
   "metadata": {
    "collapsed": false,
    "ExecuteTime": {
     "end_time": "2024-02-26T13:17:37.910345Z",
     "start_time": "2024-02-26T13:17:37.867669400Z"
    }
   },
   "id": "b72a28da3a16ca92"
  },
  {
   "cell_type": "code",
   "execution_count": null,
   "outputs": [],
   "source": [],
   "metadata": {
    "collapsed": false
   },
   "id": "62eaca2542768a6f"
  }
 ],
 "metadata": {
  "kernelspec": {
   "display_name": "Python 3",
   "language": "python",
   "name": "python3"
  },
  "language_info": {
   "codemirror_mode": {
    "name": "ipython",
    "version": 2
   },
   "file_extension": ".py",
   "mimetype": "text/x-python",
   "name": "python",
   "nbconvert_exporter": "python",
   "pygments_lexer": "ipython2",
   "version": "2.7.6"
  }
 },
 "nbformat": 4,
 "nbformat_minor": 5
}
